{
 "cells": [
  {
   "cell_type": "code",
   "execution_count": 76,
   "metadata": {},
   "outputs": [],
   "source": [
    "# !pip3 install torch"
   ]
  },
  {
   "cell_type": "code",
   "execution_count": 77,
   "metadata": {},
   "outputs": [],
   "source": [
    "import torch\n",
    "import torch.nn as nn\n",
    "import torch.optim as optim\n",
    "import pandas as pd\n"
   ]
  },
  {
   "cell_type": "code",
   "execution_count": 78,
   "metadata": {},
   "outputs": [
    {
     "data": {
      "text/html": [
       "<div>\n",
       "<style scoped>\n",
       "    .dataframe tbody tr th:only-of-type {\n",
       "        vertical-align: middle;\n",
       "    }\n",
       "\n",
       "    .dataframe tbody tr th {\n",
       "        vertical-align: top;\n",
       "    }\n",
       "\n",
       "    .dataframe thead th {\n",
       "        text-align: right;\n",
       "    }\n",
       "</style>\n",
       "<table border=\"1\" class=\"dataframe\">\n",
       "  <thead>\n",
       "    <tr style=\"text-align: right;\">\n",
       "      <th></th>\n",
       "      <th>year</th>\n",
       "      <th>month</th>\n",
       "      <th>average temperature</th>\n",
       "      <th>amount of accidents</th>\n",
       "    </tr>\n",
       "  </thead>\n",
       "  <tbody>\n",
       "    <tr>\n",
       "      <th>0</th>\n",
       "      <td>2009</td>\n",
       "      <td>1</td>\n",
       "      <td>0.822500</td>\n",
       "      <td>221</td>\n",
       "    </tr>\n",
       "    <tr>\n",
       "      <th>1</th>\n",
       "      <td>2009</td>\n",
       "      <td>2</td>\n",
       "      <td>-1.936842</td>\n",
       "      <td>216</td>\n",
       "    </tr>\n",
       "    <tr>\n",
       "      <th>2</th>\n",
       "      <td>2009</td>\n",
       "      <td>3</td>\n",
       "      <td>-0.768421</td>\n",
       "      <td>261</td>\n",
       "    </tr>\n",
       "    <tr>\n",
       "      <th>3</th>\n",
       "      <td>2009</td>\n",
       "      <td>4</td>\n",
       "      <td>3.280000</td>\n",
       "      <td>203</td>\n",
       "    </tr>\n",
       "    <tr>\n",
       "      <th>4</th>\n",
       "      <td>2009</td>\n",
       "      <td>5</td>\n",
       "      <td>6.495000</td>\n",
       "      <td>231</td>\n",
       "    </tr>\n",
       "    <tr>\n",
       "      <th>...</th>\n",
       "      <td>...</td>\n",
       "      <td>...</td>\n",
       "      <td>...</td>\n",
       "      <td>...</td>\n",
       "    </tr>\n",
       "    <tr>\n",
       "      <th>163</th>\n",
       "      <td>2022</td>\n",
       "      <td>8</td>\n",
       "      <td>9.600000</td>\n",
       "      <td>238</td>\n",
       "    </tr>\n",
       "    <tr>\n",
       "      <th>164</th>\n",
       "      <td>2022</td>\n",
       "      <td>9</td>\n",
       "      <td>8.385714</td>\n",
       "      <td>288</td>\n",
       "    </tr>\n",
       "    <tr>\n",
       "      <th>165</th>\n",
       "      <td>2022</td>\n",
       "      <td>10</td>\n",
       "      <td>3.771429</td>\n",
       "      <td>366</td>\n",
       "    </tr>\n",
       "    <tr>\n",
       "      <th>166</th>\n",
       "      <td>2022</td>\n",
       "      <td>11</td>\n",
       "      <td>4.535714</td>\n",
       "      <td>301</td>\n",
       "    </tr>\n",
       "    <tr>\n",
       "      <th>167</th>\n",
       "      <td>2022</td>\n",
       "      <td>12</td>\n",
       "      <td>-3.757143</td>\n",
       "      <td>358</td>\n",
       "    </tr>\n",
       "  </tbody>\n",
       "</table>\n",
       "<p>168 rows × 4 columns</p>\n",
       "</div>"
      ],
      "text/plain": [
       "     year  month  average temperature  amount of accidents\n",
       "0    2009      1             0.822500                  221\n",
       "1    2009      2            -1.936842                  216\n",
       "2    2009      3            -0.768421                  261\n",
       "3    2009      4             3.280000                  203\n",
       "4    2009      5             6.495000                  231\n",
       "..    ...    ...                  ...                  ...\n",
       "163  2022      8             9.600000                  238\n",
       "164  2022      9             8.385714                  288\n",
       "165  2022     10             3.771429                  366\n",
       "166  2022     11             4.535714                  301\n",
       "167  2022     12            -3.757143                  358\n",
       "\n",
       "[168 rows x 4 columns]"
      ]
     },
     "execution_count": 78,
     "metadata": {},
     "output_type": "execute_result"
    }
   ],
   "source": [
    "# get data\n",
    "weather_data = pd.read_csv(\"../vedur/vedurGogn/allarStodvar.csv\", delimiter=\",\", names=[\"year\", \"month\", \"average temperature\"], skiprows=1)\n",
    "\n",
    "weather_data = weather_data.dropna()\n",
    "\n",
    "accidents_data = pd.read_csv(\"../accidents/formatted-accident-data.csv\", delimiter=\",\", names=[\"year\", \"month\", \"amount of accidents\"], skiprows=1)\n",
    "accidents_data = accidents_data.dropna()\n",
    "\n",
    "data = pd.merge(weather_data, accidents_data, on=[\"year\", \"month\"])\n",
    "data"
   ]
  },
  {
   "cell_type": "code",
   "execution_count": 79,
   "metadata": {},
   "outputs": [
    {
     "data": {
      "image/png": "[encoded data removed]",
      "text/plain": [
       "<Figure size 432x288 with 1 Axes>"
      ]
     },
     "metadata": {
      "needs_background": "light"
     },
     "output_type": "display_data"
    }
   ],
   "source": [
    "import matplotlib.pyplot as plt\n",
    "\n",
    "plt.scatter(data[\"average temperature\"], data[\"amount of accidents\"])\n",
    "plt.xlabel(\"average temperature\")\n",
    "plt.ylabel(\"amount of accidents\")\n",
    "plt.show()"
   ]
  },
  {
   "cell_type": "code",
   "execution_count": 80,
   "metadata": {},
   "outputs": [],
   "source": [
    "# time = data[\"year\"].astype(str) + \"-\" + data[\"month\"].astype(str)\n",
    "# time = pd.to_datetime(time).astype(int) / 10**9 # convert to unix time\n",
    "\n",
    "# temperatures = data[\"average temperature\"]\n",
    "temperatures = data[\"average temperature\"]\n",
    "accidents = data[\"amount of accidents\"]\n",
    "\n",
    "X = torch.tensor(temperatures.values, dtype=torch.float32).reshape(-1, 1)\n",
    "y = torch.tensor(accidents.values, dtype=torch.float32).reshape(-1, 1)\n",
    "\n",
    "\n",
    "# Standardized the input features\n",
    "X_mean = torch.mean(X, dim=0)\n",
    "X_std = torch.std(X, dim=0)\n",
    "X_standardized = (X - X_mean) / X_std\n",
    "\n",
    "# X.size(), y.size()"
   ]
  },
  {
   "cell_type": "code",
   "execution_count": 81,
   "metadata": {},
   "outputs": [],
   "source": [
    "# # Pseudo data\n",
    "# years = [2018, 2018, 2019, 2019, 2020, 2020]\n",
    "# months = [1, 2, 3, 4, 5, 6]\n",
    "# temperatures = [23.5, 24.7, 18.2, 20.5, 22.1, 25.0]\n",
    "# accidents = [10, 15, 8, 12, 11, 13]\n",
    "\n",
    "# # Convert the lists to PyTorch tensors\n",
    "# X = torch.tensor(list(zip(years, months, temperatures)), dtype=torch.float32)\n",
    "# y = torch.tensor(accidents, dtype=torch.float32)\n",
    "\n",
    "# # Standardized the input features\n",
    "# X_mean = torch.mean(X, dim=0)\n",
    "# X_std = torch.std(X, dim=0)\n",
    "# X_standardized = (X - X_mean) / X_std\n",
    "\n"
   ]
  },
  {
   "cell_type": "code",
   "execution_count": 82,
   "metadata": {},
   "outputs": [],
   "source": [
    "# Define the model\n",
    "class LinearRegression(nn.Module):\n",
    "    def __init__(self):\n",
    "        super(LinearRegression, self).__init__()\n",
    "        self.linear = nn.Linear(1, 1)  # 1 input features and 1 output\n",
    "\n",
    "    def forward(self, x):\n",
    "        return self.linear(x)"
   ]
  },
  {
   "cell_type": "code",
   "execution_count": 83,
   "metadata": {},
   "outputs": [],
   "source": [
    "# Initialize the model\n",
    "model = LinearRegression()\n",
    "criterion = nn.MSELoss()\n",
    "optimizer = optim.SGD(model.parameters(), lr=0.01)\n",
    "\n"
   ]
  },
  {
   "cell_type": "code",
   "execution_count": 84,
   "metadata": {},
   "outputs": [
    {
     "name": "stdout",
     "output_type": "stream",
     "text": [
      "Epoch 100/1000, Loss: 4370.5444\n",
      "Epoch 200/1000, Loss: 3267.6499\n",
      "Epoch 300/1000, Loss: 3248.2473\n",
      "Epoch 400/1000, Loss: 3247.9058\n",
      "Epoch 500/1000, Loss: 3247.8999\n",
      "Epoch 600/1000, Loss: 3247.8997\n",
      "Epoch 700/1000, Loss: 3247.8999\n",
      "Epoch 800/1000, Loss: 3247.8999\n",
      "Epoch 900/1000, Loss: 3247.8999\n",
      "Epoch 1000/1000, Loss: 3247.8999\n"
     ]
    }
   ],
   "source": [
    "# Train the model\n",
    "num_epochs = 1000\n",
    "\n",
    "for epoch in range(num_epochs):\n",
    "    # Forward pass\n",
    "    outputs = model(X_standardized)\n",
    "    loss = criterion(outputs, y)\n",
    "\n",
    "    # Backward and optimize\n",
    "    optimizer.zero_grad()\n",
    "    loss.backward()\n",
    "    optimizer.step()\n",
    "\n",
    "    if (epoch + 1) % 100 == 0:\n",
    "        print(f'Epoch {epoch+1}/{num_epochs}, Loss: {loss.item():.4f}')\n",
    "        \n"
   ]
  },
  {
   "cell_type": "code",
   "execution_count": 102,
   "metadata": {},
   "outputs": [
    {
     "name": "stdout",
     "output_type": "stream",
     "text": [
      "current temperature:  7.0°C\n",
      "Predicted amount of accidents: 230.50\n",
      "percentage from average accidents per month:  93.7 %\n"
     ]
    },
    {
     "data": {
      "image/png": "[encoded data removed]",
      "text/plain": [
       "<Figure size 432x288 with 1 Axes>"
      ]
     },
     "metadata": {
      "needs_background": "light"
     },
     "output_type": "display_data"
    }
   ],
   "source": [
    "# inference\n",
    "\n",
    "new_data = 7\n",
    "new_data = torch.tensor(new_data, dtype=torch.float32).reshape(-1, 1)\n",
    "standardized_new_data = (new_data - X_mean) / X_std\n",
    "predicted = model(standardized_new_data)\n",
    "\n",
    "# Average accidents per month: 246\n",
    "# Average accidents per week: 0.339\n",
    "\n",
    "# Print the predicted amount of accidents\n",
    "print(\"current temperature: \", str(new_data.item()) + \"°C\")\n",
    "print(f'Predicted amount of accidents: {predicted.item():.2f}')\n",
    "print(\"percentage from average accidents per month: \", round(predicted.item() / 246, 3) * 100, \"%\")\n",
    "\n",
    "# Plot the graph\n",
    "predicted = model(X_standardized).detach().numpy()\n",
    "plt.plot(X, y, 'ro', label='Original data')\n",
    "plt.plot(X, predicted, label='Fitted line')\n",
    "plt.legend()\n",
    "plt.show()\n",
    "\n"
   ]
  }
 ],
 "metadata": {
  "kernelspec": {
   "display_name": "Python 3",
   "language": "python",
   "name": "python3"
  },
  "language_info": {
   "codemirror_mode": {
    "name": "ipython",
    "version": 3
   },
   "file_extension": ".py",
   "mimetype": "text/x-python",
   "name": "python",
   "nbconvert_exporter": "python",
   "pygments_lexer": "ipython3",
   "version": "3.9.1"
  },
  "orig_nbformat": 4
 },
 "nbformat": 4,
 "nbformat_minor": 2
}
