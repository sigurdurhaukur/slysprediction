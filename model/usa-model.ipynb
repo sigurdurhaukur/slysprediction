{
 "cells": [
  {
   "cell_type": "code",
   "execution_count": 98,
   "metadata": {},
   "outputs": [],
   "source": [
    "# !pip3 install torch\n",
    "# !pip install scikit-learn"
   ]
  },
  {
   "cell_type": "code",
   "execution_count": 99,
   "metadata": {},
   "outputs": [],
   "source": [
    "import torch\n",
    "import torch.nn as nn\n",
    "import torch.optim as optim\n",
    "import pandas as pd"
   ]
  },
  {
   "cell_type": "code",
   "execution_count": 100,
   "metadata": {},
   "outputs": [],
   "source": [
    "# get data\n",
    "data = pd.read_csv(\"../usa/processed-usa-data.csv\", delimiter=\",\", names=[\"Temperature_Bin\", \"Wind_Speed_Bin\", \"Amount_of_Accidents\"], skiprows=1)\n",
    "data = data.dropna()"
   ]
  },
  {
   "cell_type": "code",
   "execution_count": 101,
   "metadata": {},
   "outputs": [
    {
     "name": "stdout",
     "output_type": "stream",
     "text": [
      "average accidents:  20240.4\n"
     ]
    },
    {
     "data": {
      "text/html": [
       "<div>\n",
       "<style scoped>\n",
       "    .dataframe tbody tr th:only-of-type {\n",
       "        vertical-align: middle;\n",
       "    }\n",
       "\n",
       "    .dataframe tbody tr th {\n",
       "        vertical-align: top;\n",
       "    }\n",
       "\n",
       "    .dataframe thead th {\n",
       "        text-align: right;\n",
       "    }\n",
       "</style>\n",
       "<table border=\"1\" class=\"dataframe\">\n",
       "  <thead>\n",
       "    <tr style=\"text-align: right;\">\n",
       "      <th></th>\n",
       "      <th>Temperature_Bin</th>\n",
       "      <th>Wind_Speed_Bin</th>\n",
       "      <th>Amount_of_Accidents</th>\n",
       "    </tr>\n",
       "  </thead>\n",
       "  <tbody>\n",
       "    <tr>\n",
       "      <th>0</th>\n",
       "      <td>Extremely Cold</td>\n",
       "      <td>No Wind</td>\n",
       "      <td>5175</td>\n",
       "    </tr>\n",
       "    <tr>\n",
       "      <th>1</th>\n",
       "      <td>Extremely Cold</td>\n",
       "      <td>Very Low</td>\n",
       "      <td>22582</td>\n",
       "    </tr>\n",
       "    <tr>\n",
       "      <th>2</th>\n",
       "      <td>Extremely Cold</td>\n",
       "      <td>Low</td>\n",
       "      <td>15178</td>\n",
       "    </tr>\n",
       "    <tr>\n",
       "      <th>3</th>\n",
       "      <td>Extremely Cold</td>\n",
       "      <td>Slightly Low</td>\n",
       "      <td>7546</td>\n",
       "    </tr>\n",
       "    <tr>\n",
       "      <th>4</th>\n",
       "      <td>Extremely Cold</td>\n",
       "      <td>Moderate Low</td>\n",
       "      <td>3503</td>\n",
       "    </tr>\n",
       "    <tr>\n",
       "      <th>...</th>\n",
       "      <td>...</td>\n",
       "      <td>...</td>\n",
       "      <td>...</td>\n",
       "    </tr>\n",
       "    <tr>\n",
       "      <th>95</th>\n",
       "      <td>Extremely Hot</td>\n",
       "      <td>Moderate High</td>\n",
       "      <td>99</td>\n",
       "    </tr>\n",
       "    <tr>\n",
       "      <th>96</th>\n",
       "      <td>Extremely Hot</td>\n",
       "      <td>Slightly High</td>\n",
       "      <td>19</td>\n",
       "    </tr>\n",
       "    <tr>\n",
       "      <th>97</th>\n",
       "      <td>Extremely Hot</td>\n",
       "      <td>High</td>\n",
       "      <td>3</td>\n",
       "    </tr>\n",
       "    <tr>\n",
       "      <th>98</th>\n",
       "      <td>Extremely Hot</td>\n",
       "      <td>Very High</td>\n",
       "      <td>0</td>\n",
       "    </tr>\n",
       "    <tr>\n",
       "      <th>99</th>\n",
       "      <td>Extremely Hot</td>\n",
       "      <td>Extremely High</td>\n",
       "      <td>0</td>\n",
       "    </tr>\n",
       "  </tbody>\n",
       "</table>\n",
       "<p>100 rows × 3 columns</p>\n",
       "</div>"
      ],
      "text/plain": [
       "   Temperature_Bin  Wind_Speed_Bin  Amount_of_Accidents\n",
       "0   Extremely Cold         No Wind                 5175\n",
       "1   Extremely Cold        Very Low                22582\n",
       "2   Extremely Cold             Low                15178\n",
       "3   Extremely Cold    Slightly Low                 7546\n",
       "4   Extremely Cold    Moderate Low                 3503\n",
       "..             ...             ...                  ...\n",
       "95   Extremely Hot   Moderate High                   99\n",
       "96   Extremely Hot   Slightly High                   19\n",
       "97   Extremely Hot            High                    3\n",
       "98   Extremely Hot       Very High                    0\n",
       "99   Extremely Hot  Extremely High                    0\n",
       "\n",
       "[100 rows x 3 columns]"
      ]
     },
     "execution_count": 101,
     "metadata": {},
     "output_type": "execute_result"
    }
   ],
   "source": [
    "# preprocess data\n",
    "from sklearn.model_selection import train_test_split\n",
    "\n",
    "accidents = data[\"Amount_of_Accidents\"].values\n",
    "accidents = accidents.sum() / len(accidents)\n",
    "\n",
    "print(\"average accidents: \", accidents)\n",
    "\n",
    "# Perform one-hot encoding on the categorical columns\n",
    "temperature_encoded = pd.get_dummies(data[\"Temperature_Bin\"], prefix=\"temperature\")\n",
    "wind_speed_encoded = pd.get_dummies(data[\"Wind_Speed_Bin\"], prefix=\"wind_speed\")\n",
    "\n",
    "# Combine the encoded features with the amount of accidents\n",
    "processed_data = pd.concat([temperature_encoded, wind_speed_encoded, data[\"Amount_of_Accidents\"]], axis=1)\n",
    "\n",
    "# Convert the processed data to PyTorch tensors\n",
    "X = processed_data.iloc[:, :-1].values\n",
    "y = processed_data.iloc[:, -1].values\n",
    "\n",
    "X_train, x_val, y_train,  y_val = train_test_split(X, y, test_size=0.2, shuffle=True)\n",
    "\n",
    "data"
   ]
  },
  {
   "cell_type": "code",
   "execution_count": null,
   "metadata": {},
   "outputs": [],
   "source": []
  },
  {
   "cell_type": "code",
   "execution_count": 226,
   "metadata": {},
   "outputs": [
    {
     "name": "stderr",
     "output_type": "stream",
     "text": [
      "/Library/Frameworks/Python.framework/Versions/3.9/lib/python3.9/site-packages/sklearn/neural_network/_multilayer_perceptron.py:614: ConvergenceWarning: Stochastic Optimizer: Maximum iterations (500) reached and the optimization hasn't converged yet.\n",
      "  warnings.warn(\n"
     ]
    },
    {
     "data": {
      "text/plain": [
       "0.9682292673628549"
      ]
     },
     "execution_count": 226,
     "metadata": {},
     "output_type": "execute_result"
    }
   ],
   "source": [
    "from sklearn.linear_model import LinearRegression\n",
    "from sklearn.ensemble import RandomForestRegressor, AdaBoostRegressor\n",
    "from sklearn.neural_network import MLPRegressor\n",
    "\n",
    "\n",
    "import numpy as np\n",
    "\n",
    "lr = LinearRegression()\n",
    "lr.fit(X_train, np.log(y_train + 1e-5))\n",
    "\n",
    "# rf = RandomForestRegressor(n_estimators=50, max_depth=3)\n",
    "rf = MLPRegressor(hidden_layer_sizes=(8, 8,8,8, 8, 8,), max_iter=500, activation=\"relu\", solver=\"adam\", learning_rate_init=1e-3, learning_rate=\"adaptive\", random_state=42)\n",
    "\n",
    "rf.fit(X_train, np.log(y_train + 1e-5))\n",
    "\n",
    "import joblib\n",
    "# Save model with a higher protocol version\n",
    "# joblib.dump(rf, \"usa-model.pt\", protocol=4)\n",
    "\n",
    "rf.score(x_val, np.log(y_val + 1e-5))"
   ]
  },
  {
   "cell_type": "code",
   "execution_count": 213,
   "metadata": {},
   "outputs": [
    {
     "data": {
      "text/plain": [
       "(0.6273863029430583, 0.9582407335303523)"
      ]
     },
     "execution_count": 213,
     "metadata": {},
     "output_type": "execute_result"
    }
   ],
   "source": [
    "lr.score(x_val, np.log(y_val + 1e-5)),rf.score(x_val, np.log(y_val + 1e-5))"
   ]
  },
  {
   "cell_type": "code",
   "execution_count": 178,
   "metadata": {},
   "outputs": [
    {
     "data": {
      "text/plain": [
       "['new-usa-model.pt']"
      ]
     },
     "execution_count": 178,
     "metadata": {},
     "output_type": "execute_result"
    }
   ],
   "source": [
    "import joblib\n",
    "\n",
    "joblib.dump(rf, \"new-usa-model.pt\", protocol=4)"
   ]
  },
  {
   "cell_type": "code",
   "execution_count": 70,
   "metadata": {},
   "outputs": [
    {
     "name": "stdout",
     "output_type": "stream",
     "text": [
      "[[  5175  22582  15178   7546   3503   1213    414    146     88     28]\n",
      " [ 10728  38569  24186  11877   4713   1642    507    146     57     29]\n",
      " [ 19400  62352  34356  15802   6050   1915    565    133     74     72]\n",
      " [ 33567 100558  50086  21627   8282   2858    772    257    122     81]\n",
      " [ 45003 140630  69535  27068   9394   2987    830    223    163     76]\n",
      " [ 46526 162833  85158  32693  10247   3048    797    182    116     47]\n",
      " [ 43767 181655 111974  39306  10643   2594    565    173     52     35]\n",
      " [ 25962 136080 108061  41564   9824   2018    310     45     24     17]\n",
      " [  9247  56383  51595  19331   3536    534     75     29      5      7]\n",
      " [  1484   9295   8927   3273    717     99     19      3      0      0]]\n"
     ]
    },
    {
     "data": {
      "image/png": "[encoded data removed]",
      "text/plain": [
       "<Figure size 720x576 with 2 Axes>"
      ]
     },
     "metadata": {
      "needs_background": "light"
     },
     "output_type": "display_data"
    }
   ],
   "source": [
    "import numpy as np\n",
    "import matplotlib.pyplot as plt\n",
    "\n",
    "temperature_bins = [\n",
    "    \"Extremely Cold\",\n",
    "    \"Very Cold\",\n",
    "    \"Cold\",\n",
    "    \"Slightly Cold\",\n",
    "    \"Moderate Cold\",\n",
    "    \"Moderate Hot\",\n",
    "    \"Slightly Hot\",\n",
    "    \"Hot\",\n",
    "    \"Very Hot\",\n",
    "    \"Extremely Hot\",\n",
    "]\n",
    "wind_speed_bins = [\n",
    "    \"No Wind\",\n",
    "    \"Very Low\",\n",
    "    \"Low\",\n",
    "    \"Slightly Low\",\n",
    "    \"Moderate Low\",\n",
    "    \"Moderate High\",\n",
    "    \"Slightly High\",\n",
    "    \"High\",\n",
    "    \"Very High\",\n",
    "    \"Extremely High\",\n",
    "]\n",
    "\n",
    "graphin_data = data[\"Amount_of_Accidents\"].values.reshape(10, 10)\n",
    "print(graphin_data)\n",
    "# Convert the data into a numpy array\n",
    "confusion_matrix = np.array(graphin_data)\n",
    "\n",
    "# Create a figure and axis\n",
    "fig, ax = plt.subplots(figsize=(10, 8))\n",
    "\n",
    "# Plot the confusion matrix\n",
    "im = ax.imshow(confusion_matrix, cmap='Blues')\n",
    "\n",
    "# Set the tick labels and rotation\n",
    "ax.set_xticks(np.arange(len(wind_speed_bins)))\n",
    "ax.set_yticks(np.arange(len(temperature_bins)))\n",
    "ax.set_xticklabels(wind_speed_bins, rotation=45, ha=\"right\")\n",
    "ax.set_yticklabels(temperature_bins)\n",
    "\n",
    "# Loop over the data and add text annotations\n",
    "for i in range(len(temperature_bins)):\n",
    "    for j in range(len(wind_speed_bins)):\n",
    "        # the one-hot encodings\n",
    "        \n",
    "        \n",
    "        text = ax.text(j, i, confusion_matrix[i, j],\n",
    "                       ha=\"center\", va=\"center\", color=\"w\")\n",
    "\n",
    "# Add a colorbar\n",
    "cbar = ax.figure.colorbar(im, ax=ax)\n",
    "\n",
    "# Set the title and labels\n",
    "ax.set_xlabel(\"Wind Speed\")\n",
    "ax.set_ylabel(\"Temperature\")\n",
    "\n",
    "# Show the plot\n",
    "plt.tight_layout()\n",
    "plt.show()\n"
   ]
  },
  {
   "cell_type": "code",
   "execution_count": 52,
   "metadata": {},
   "outputs": [
    {
     "name": "stdout",
     "output_type": "stream",
     "text": [
      "Predicted amount of accidents: 28911.01\n",
      "percent deviation from average accidents per month:  42.838%\n"
     ]
    },
    {
     "data": {
      "image/png": "[encoded data removed]",
      "text/plain": [
       "<Figure size 432x288 with 1 Axes>"
      ]
     },
     "metadata": {
      "needs_background": "light"
     },
     "output_type": "display_data"
    }
   ],
   "source": [
    "# Define the bins for temperature and wind speed\n",
    "temperature_bins = [-float(\"inf\"), -5, 0, 5, 10, 15, 20, 25, 30, 35, float(\"inf\")]\n",
    "wind_speed_bins = [0, 2, 4, 6, 8, 10, 12, 14, 16, 18, float(\"inf\")]\n",
    "\n",
    "# Assign labels to each bin\n",
    "temperature_labels = [\n",
    "    \"Extremely Cold\",\n",
    "    \"Very Cold\",\n",
    "    \"Cold\",\n",
    "    \"Slightly Cold\",\n",
    "    \"Moderate Cold\",\n",
    "    \"Moderate Hot\",\n",
    "    \"Slightly Hot\",\n",
    "    \"Hot\",\n",
    "    \"Very Hot\",\n",
    "    \"Extremely Hot\",\n",
    "]\n",
    "wind_speed_labels = [\n",
    "    \"No Wind\",\n",
    "    \"Very Low\",\n",
    "    \"Low\",\n",
    "    \"Slightly Low\",\n",
    "    \"Moderate Low\",\n",
    "    \"Moderate High\",\n",
    "    \"Slightly High\",\n",
    "    \"High\",\n",
    "    \"Very High\",\n",
    "    \"Extremely High\",\n",
    "]\n",
    "\n",
    "current_temperature = 15\n",
    "current_wind_speed = 10\n",
    "\n",
    "# Encode the current temperature and wind speed values into one-hot encoding\n",
    "temperature_index = next((i for i, bin in enumerate(temperature_bins) if current_temperature <= bin), len(temperature_bins) - 1)\n",
    "wind_speed_index = next((i for i, bin in enumerate(wind_speed_bins) if current_wind_speed <= bin))\n",
    "\n",
    "# hacky way to solve out of index error\n",
    "if wind_speed_index == len(wind_speed_bins)-1: wind_speed_index -= 1\n",
    "\n",
    "encoded_temperature = [0] * len(temperature_labels)\n",
    "encoded_temperature[temperature_index] = 1\n",
    "\n",
    "encoded_wind_speed = [0] * len(wind_speed_labels)\n",
    "encoded_wind_speed[wind_speed_index] = 1\n",
    "\n",
    "\n",
    "# Combine the encoded values into a single input tensor\n",
    "input_tensor = torch.tensor([encoded_temperature + encoded_wind_speed], dtype=torch.float32)\n",
    "\n",
    "# Make the prediction using the trained model for the amount of accidents for the span of the dataset(2016-2020, or 4 years)\n",
    "predicted = rf.predict(input_tensor) # in log space\n",
    "predicted = np.exp(predicted) - 1e-5\n",
    "\n",
    "# scale down to 1 month\n",
    "predicted = predicted / 48\n",
    "\n",
    "print(f\"Predicted amount of accidents: {predicted.item():.2f}\")\n",
    "deviation = (predicted.item() - 20240.4) / 20240.4 * 100\n",
    "print(\"percent deviation from average accidents per month: \", str(round(deviation, 3)) + \"%\")\n"
   ]
  }
 ],
 "metadata": {
  "kernelspec": {
   "display_name": "Python 3",
   "language": "python",
   "name": "python3"
  },
  "language_info": {
   "codemirror_mode": {
    "name": "ipython",
    "version": 3
   },
   "file_extension": ".py",
   "mimetype": "text/x-python",
   "name": "python",
   "nbconvert_exporter": "python",
   "pygments_lexer": "ipython3",
   "version": "3.9.1"
  },
  "orig_nbformat": 4
 },
 "nbformat": 4,
 "nbformat_minor": 2
}
