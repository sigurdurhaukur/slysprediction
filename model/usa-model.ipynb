{
 "cells": [
  {
   "cell_type": "code",
   "execution_count": 3,
   "metadata": {},
   "outputs": [],
   "source": [
    "# !pip3 install torch\n",
    "# !pip install scikit-learn"
   ]
  },
  {
   "cell_type": "code",
   "execution_count": 4,
   "metadata": {},
   "outputs": [],
   "source": [
    "import torch\n",
    "import torch.nn as nn\n",
    "import torch.optim as optim\n",
    "import pandas as pd"
   ]
  },
  {
   "cell_type": "code",
   "execution_count": 5,
   "metadata": {},
   "outputs": [],
   "source": [
    "# get data\n",
    "data = pd.read_csv(\"../usa/processed-usa-data.csv\", delimiter=\",\", names=[\"Temperature_Bin\", \"Wind_Speed_Bin\", \"Amount_of_Accidents\"], skiprows=1)\n",
    "data = data.dropna()"
   ]
  },
  {
   "cell_type": "code",
   "execution_count": 54,
   "metadata": {},
   "outputs": [
    {
     "name": "stdout",
     "output_type": "stream",
     "text": [
      "average accidents:  20240.4\n"
     ]
    },
    {
     "data": {
      "text/html": [
       "<div>\n",
       "<style scoped>\n",
       "    .dataframe tbody tr th:only-of-type {\n",
       "        vertical-align: middle;\n",
       "    }\n",
       "\n",
       "    .dataframe tbody tr th {\n",
       "        vertical-align: top;\n",
       "    }\n",
       "\n",
       "    .dataframe thead th {\n",
       "        text-align: right;\n",
       "    }\n",
       "</style>\n",
       "<table border=\"1\" class=\"dataframe\">\n",
       "  <thead>\n",
       "    <tr style=\"text-align: right;\">\n",
       "      <th></th>\n",
       "      <th>Temperature_Bin</th>\n",
       "      <th>Wind_Speed_Bin</th>\n",
       "      <th>Amount_of_Accidents</th>\n",
       "    </tr>\n",
       "  </thead>\n",
       "  <tbody>\n",
       "    <tr>\n",
       "      <th>0</th>\n",
       "      <td>Extremely Cold</td>\n",
       "      <td>No Wind</td>\n",
       "      <td>5175</td>\n",
       "    </tr>\n",
       "    <tr>\n",
       "      <th>1</th>\n",
       "      <td>Extremely Cold</td>\n",
       "      <td>Very Low</td>\n",
       "      <td>22582</td>\n",
       "    </tr>\n",
       "    <tr>\n",
       "      <th>2</th>\n",
       "      <td>Extremely Cold</td>\n",
       "      <td>Low</td>\n",
       "      <td>15178</td>\n",
       "    </tr>\n",
       "    <tr>\n",
       "      <th>3</th>\n",
       "      <td>Extremely Cold</td>\n",
       "      <td>Slightly Low</td>\n",
       "      <td>7546</td>\n",
       "    </tr>\n",
       "    <tr>\n",
       "      <th>4</th>\n",
       "      <td>Extremely Cold</td>\n",
       "      <td>Moderate Low</td>\n",
       "      <td>3503</td>\n",
       "    </tr>\n",
       "    <tr>\n",
       "      <th>...</th>\n",
       "      <td>...</td>\n",
       "      <td>...</td>\n",
       "      <td>...</td>\n",
       "    </tr>\n",
       "    <tr>\n",
       "      <th>95</th>\n",
       "      <td>Extremely Hot</td>\n",
       "      <td>Moderate High</td>\n",
       "      <td>99</td>\n",
       "    </tr>\n",
       "    <tr>\n",
       "      <th>96</th>\n",
       "      <td>Extremely Hot</td>\n",
       "      <td>Slightly High</td>\n",
       "      <td>19</td>\n",
       "    </tr>\n",
       "    <tr>\n",
       "      <th>97</th>\n",
       "      <td>Extremely Hot</td>\n",
       "      <td>High</td>\n",
       "      <td>3</td>\n",
       "    </tr>\n",
       "    <tr>\n",
       "      <th>98</th>\n",
       "      <td>Extremely Hot</td>\n",
       "      <td>Very High</td>\n",
       "      <td>0</td>\n",
       "    </tr>\n",
       "    <tr>\n",
       "      <th>99</th>\n",
       "      <td>Extremely Hot</td>\n",
       "      <td>Extremely High</td>\n",
       "      <td>0</td>\n",
       "    </tr>\n",
       "  </tbody>\n",
       "</table>\n",
       "<p>100 rows × 3 columns</p>\n",
       "</div>"
      ],
      "text/plain": [
       "   Temperature_Bin  Wind_Speed_Bin  Amount_of_Accidents\n",
       "0   Extremely Cold         No Wind                 5175\n",
       "1   Extremely Cold        Very Low                22582\n",
       "2   Extremely Cold             Low                15178\n",
       "3   Extremely Cold    Slightly Low                 7546\n",
       "4   Extremely Cold    Moderate Low                 3503\n",
       "..             ...             ...                  ...\n",
       "95   Extremely Hot   Moderate High                   99\n",
       "96   Extremely Hot   Slightly High                   19\n",
       "97   Extremely Hot            High                    3\n",
       "98   Extremely Hot       Very High                    0\n",
       "99   Extremely Hot  Extremely High                    0\n",
       "\n",
       "[100 rows x 3 columns]"
      ]
     },
     "execution_count": 54,
     "metadata": {},
     "output_type": "execute_result"
    }
   ],
   "source": [
    "# preprocess data\n",
    "from sklearn.model_selection import train_test_split\n",
    "\n",
    "accidents = data[\"Amount_of_Accidents\"].values\n",
    "accidents = accidents.sum() / len(accidents)\n",
    "\n",
    "print(\"average accidents: \", accidents)\n",
    "\n",
    "# Perform one-hot encoding on the categorical columns\n",
    "temperature_encoded = pd.get_dummies(data[\"Temperature_Bin\"], prefix=\"temperature\")\n",
    "wind_speed_encoded = pd.get_dummies(data[\"Wind_Speed_Bin\"], prefix=\"wind_speed\")\n",
    "\n",
    "# Combine the encoded features with the amount of accidents\n",
    "processed_data = pd.concat([temperature_encoded, wind_speed_encoded, data[\"Amount_of_Accidents\"]], axis=1)\n",
    "\n",
    "# Convert the processed data to PyTorch tensors\n",
    "X = processed_data.iloc[:, :-1].values\n",
    "y = processed_data.iloc[:, -1].values\n",
    "\n",
    "X_train, x_val, y_train,  y_val = train_test_split(X, y, test_size=0.2, shuffle=True)"
   ]
  },
  {
   "cell_type": "code",
   "execution_count": 53,
   "metadata": {},
   "outputs": [
    {
     "data": {
      "text/plain": [
       "['usa-model.pt']"
      ]
     },
     "execution_count": 53,
     "metadata": {},
     "output_type": "execute_result"
    }
   ],
   "source": [
    "from sklearn.linear_model import LinearRegression\n",
    "from sklearn.ensemble import RandomForestRegressor\n",
    "import numpy as np\n",
    "\n",
    "lr = LinearRegression()\n",
    "lr.fit(X_train, np.log(y_train + 1e-5))\n",
    "\n",
    "rf = RandomForestRegressor()\n",
    "rf.fit(X_train, np.log(y_train + 1e-5))\n",
    "\n",
    "import joblib\n",
    "# Save model with a higher protocol version\n",
    "# joblib.dump(rf, \"usa-model.pt\", protocol=4)\n",
    "\n"
   ]
  },
  {
   "cell_type": "code",
   "execution_count": null,
   "metadata": {},
   "outputs": [
    {
     "data": {
      "text/plain": [
       "(0.45312342691723884, 0.9372714312721295)"
      ]
     },
     "execution_count": 102,
     "metadata": {},
     "output_type": "execute_result"
    }
   ],
   "source": [
    "lr.score(x_val, np.log(y_val + 1e-5)),rf.score(x_val, np.log(y_val + 1e-5))"
   ]
  },
  {
   "cell_type": "code",
   "execution_count": 52,
   "metadata": {},
   "outputs": [
    {
     "name": "stdout",
     "output_type": "stream",
     "text": [
      "Predicted amount of accidents: 28911.01\n",
      "percent deviation from average accidents per month:  42.838%\n"
     ]
    },
    {
     "data": {
      "image/png": "[encoded data removed]",
      "text/plain": [
       "<Figure size 432x288 with 1 Axes>"
      ]
     },
     "metadata": {
      "needs_background": "light"
     },
     "output_type": "display_data"
    }
   ],
   "source": [
    "# Define the bins for temperature and wind speed\n",
    "temperature_bins = [-float(\"inf\"), -5, 0, 5, 10, 15, 20, 25, 30, 35, float(\"inf\")]\n",
    "wind_speed_bins = [0, 2, 4, 6, 8, 10, 12, 14, 16, 18, float(\"inf\")]\n",
    "\n",
    "# Assign labels to each bin\n",
    "temperature_labels = [\n",
    "    \"Extremely Cold\",\n",
    "    \"Very Cold\",\n",
    "    \"Cold\",\n",
    "    \"Slightly Cold\",\n",
    "    \"Moderate Cold\",\n",
    "    \"Moderate Hot\",\n",
    "    \"Slightly Hot\",\n",
    "    \"Hot\",\n",
    "    \"Very Hot\",\n",
    "    \"Extremely Hot\",\n",
    "]\n",
    "wind_speed_labels = [\n",
    "    \"No Wind\",\n",
    "    \"Very Low\",\n",
    "    \"Low\",\n",
    "    \"Slightly Low\",\n",
    "    \"Moderate Low\",\n",
    "    \"Moderate High\",\n",
    "    \"Slightly High\",\n",
    "    \"High\",\n",
    "    \"Very High\",\n",
    "    \"Extremely High\",\n",
    "]\n",
    "\n",
    "current_temperature = 15\n",
    "current_wind_speed = 10\n",
    "\n",
    "# Encode the current temperature and wind speed values into one-hot encoding\n",
    "temperature_index = next((i for i, bin in enumerate(temperature_bins) if current_temperature <= bin), len(temperature_bins) - 1)\n",
    "wind_speed_index = next((i for i, bin in enumerate(wind_speed_bins) if current_wind_speed <= bin))\n",
    "\n",
    "# hacky way to solve out of index error\n",
    "if wind_speed_index == len(wind_speed_bins)-1: wind_speed_index -= 1\n",
    "\n",
    "encoded_temperature = [0] * len(temperature_labels)\n",
    "encoded_temperature[temperature_index] = 1\n",
    "\n",
    "encoded_wind_speed = [0] * len(wind_speed_labels)\n",
    "encoded_wind_speed[wind_speed_index] = 1\n",
    "\n",
    "\n",
    "# Combine the encoded values into a single input tensor\n",
    "input_tensor = torch.tensor([encoded_temperature + encoded_wind_speed], dtype=torch.float32)\n",
    "\n",
    "# Make the prediction using the trained model for the amount of accidents for the span of the dataset(2016-2020, or 4 years)\n",
    "predicted = rf.predict(input_tensor) # in log space\n",
    "predicted = np.exp(predicted) - 1e-5\n",
    "\n",
    "# scale down to 1 month\n",
    "predicted = predicted / 48\n",
    "\n",
    "print(f\"Predicted amount of accidents: {predicted.item():.2f}\")\n",
    "deviation = (predicted.item() - 20240.4) / 20240.4 * 100\n",
    "print(\"percent deviation from average accidents per month: \", str(round(deviation, 3)) + \"%\")\n"
   ]
  }
 ],
 "metadata": {
  "kernelspec": {
   "display_name": "Python 3",
   "language": "python",
   "name": "python3"
  },
  "language_info": {
   "codemirror_mode": {
    "name": "ipython",
    "version": 3
   },
   "file_extension": ".py",
   "mimetype": "text/x-python",
   "name": "python",
   "nbconvert_exporter": "python",
   "pygments_lexer": "ipython3",
   "version": "3.9.1"
  },
  "orig_nbformat": 4
 },
 "nbformat": 4,
 "nbformat_minor": 2
}
