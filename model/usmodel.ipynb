{
 "cells": [
  {
   "cell_type": "code",
   "execution_count": null,
   "metadata": {},
   "outputs": [],
   "source": [
    "# !pip3 install torch"
   ]
  },
  {
   "cell_type": "code",
   "execution_count": null,
   "metadata": {},
   "outputs": [],
   "source": [
    "import torch\n",
    "import torch.nn as nn\n",
    "import torch.optim as optim\n",
    "import pandas as pd"
   ]
  },
  {
   "cell_type": "code",
   "execution_count": null,
   "metadata": {},
   "outputs": [],
   "source": [
    "# get data\n",
    "data = pd.read_csv(\"../us/data.csv\", delimiter=\",\", names=[\"date\", \"temperature\", \"windspeed\"], skiprows=1)\n",
    "data = data.dropna()"
   ]
  },
  {
   "cell_type": "code",
   "execution_count": null,
   "metadata": {},
   "outputs": [],
   "source": [
    "temperature = data[\"temperature\"].values.reshape(-1, 1)\n",
    "wind_speed = data[\"wind_speed\"].values.reshape(-1, 1)\n",
    "accidents = data[\"amount_of_accidents\"].values.reshape(-1, 1)\n",
    "\n",
    "\n",
    "# Standardize the input features\n",
    "temperature_mean = temperature.mean()\n",
    "temperature_std = temperature.std()\n",
    "\n",
    "wind_speed_mean = wind_speed.mean()\n",
    "wind_speed_std = wind_speed.std()\n",
    "\n",
    "temperature_standardized = (temperature - temperature_mean) / temperature_std\n",
    "wind_speed_standardized = (wind_speed - wind_speed_mean) / wind_speed_std\n",
    "\n",
    "# Convert the standardized data to PyTorch tensors\n",
    "X = torch.tensor(\n",
    "    list(zip(temperature_standardized, wind_speed_standardized)),\n",
    "    dtype=torch.float32,\n",
    ")\n",
    "y = torch.tensor(accidents, dtype=torch.float32)\n",
    "\n",
    "# X.size(), y.size()"
   ]
  },
  {
   "cell_type": "code",
   "execution_count": null,
   "metadata": {},
   "outputs": [],
   "source": [
    "# Define the linear regression model\n",
    "class LinearRegression(nn.Module):\n",
    "    def __init__(self):\n",
    "        super(LinearRegression, self).__init__()\n",
    "        self.linear = nn.Linear(2, 1)  # 2 input features and 1 output\n",
    "\n",
    "    def forward(self, x):\n",
    "        return self.linear(x)"
   ]
  },
  {
   "cell_type": "code",
   "execution_count": null,
   "metadata": {},
   "outputs": [],
   "source": [
    "# Initialize the model\n",
    "model = LinearRegression()\n",
    "criterion = nn.MSELoss()\n",
    "optimizer = optim.SGD(model.parameters(), lr=0.01)"
   ]
  },
  {
   "cell_type": "code",
   "execution_count": null,
   "metadata": {},
   "outputs": [],
   "source": [
    "current_temperature = 0\n",
    "current_wind_speed = 0\n",
    "\n",
    "\n",
    "new_data = torch.tensor([[current_temperature, current_temperature]], dtype=torch.float32)\n",
    "\n",
    "# Standardize the new_data using the same mean and standard deviation as the training data\n",
    "new_data_standardized = (new_data - torch.tensor([temperature_mean, wind_speed_mean])) / torch.tensor([temperature_std, wind_speed_std])\n",
    "\n",
    "predicted = model(new_data_standardized)\n",
    "\n",
    "print(f'Predicted amount of accidents: {predicted.item():.2f}')\n"
   ]
  }
 ],
 "metadata": {
  "language_info": {
   "name": "python"
  },
  "orig_nbformat": 4
 },
 "nbformat": 4,
 "nbformat_minor": 2
}
