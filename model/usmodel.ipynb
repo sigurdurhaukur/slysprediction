{
 "cells": [
  {
   "cell_type": "code",
   "execution_count": 3,
   "metadata": {},
   "outputs": [],
   "source": [
    "# !pip3 install torch\n",
    "# !pip install scikit-learn"
   ]
  },
  {
   "cell_type": "code",
   "execution_count": 4,
   "metadata": {},
   "outputs": [],
   "source": [
    "import torch\n",
    "import torch.nn as nn\n",
    "import torch.optim as optim\n",
    "import pandas as pd"
   ]
  },
  {
   "cell_type": "code",
   "execution_count": 5,
   "metadata": {},
   "outputs": [],
   "source": [
    "# get data\n",
    "data = pd.read_csv(\"../usa/processed-usa-data.csv\", delimiter=\",\", names=[\"Temperature_Bin\", \"Wind_Speed_Bin\", \"Amount_of_Accidents\"], skiprows=1)\n",
    "data = data.dropna()"
   ]
  },
  {
   "cell_type": "code",
   "execution_count": 6,
   "metadata": {},
   "outputs": [
    {
     "name": "stdout",
     "output_type": "stream",
     "text": [
      "average accidents:  20240.4\n"
     ]
    },
    {
     "data": {
      "text/plain": [
       "array([     5,    717,     57,     99, 162833,     29,     72,     17,\n",
       "         1915,    534, 140630,  11877,   2594,  85158,   8282,  62352,\n",
       "          223,    565,    133,      0,   2987,   2858, 100558,     35,\n",
       "          310,    146,     74,  15178,  51595, 111974,   1642,    507,\n",
       "           81,   6050,     28,    565,    182,   1213,  34356,  10728,\n",
       "         8927, 181655,     19,      0,    173,  50086, 136080,  25962,\n",
       "        24186,     45,   2018,   3503,  21627,     75, 108061,    163,\n",
       "         3273,   9394,  10643,  56383,   5175,    122,   9247,  32693,\n",
       "        27068,    830,   4713,  15802,     52,   7546,  10247,      7,\n",
       "        46526,    414,   9824,  22582,   3048,    257,  38569,      3])"
      ]
     },
     "execution_count": 6,
     "metadata": {},
     "output_type": "execute_result"
    }
   ],
   "source": [
    "from sklearn.model_selection import train_test_split\n",
    "\n",
    "# Preprocess the data\n",
    "data = data.dropna()\n",
    "\n",
    "accidents = data[\"Amount_of_Accidents\"].values\n",
    "accidents = accidents.sum() / len(accidents)\n",
    "\n",
    "print(\"average accidents: \", accidents)\n",
    "\n",
    "# Perform one-hot encoding on the categorical columns\n",
    "temperature_encoded = pd.get_dummies(data[\"Temperature_Bin\"], prefix=\"temperature\")\n",
    "wind_speed_encoded = pd.get_dummies(data[\"Wind_Speed_Bin\"], prefix=\"wind_speed\")\n",
    "\n",
    "# Combine the encoded features with the amount of accidents\n",
    "processed_data = pd.concat([temperature_encoded, wind_speed_encoded, data[\"Amount_of_Accidents\"]], axis=1)\n",
    "\n",
    "# Convert the processed data to PyTorch tensors\n",
    "X = processed_data.iloc[:, :-1].values\n",
    "y = processed_data.iloc[:, -1].values\n",
    "\n",
    "X_train, x_val, y_train,  y_val = train_test_split(X, y, test_size=0.2, shuffle=True)\n",
    " \n",
    "X.shape\n",
    "X_train.shape, x_val.shape\n",
    "\n",
    "y_train\n",
    "# Standardize the input features\n",
    "# X_mean = torch.mean(X, dim=0)\n",
    "# X_std = torch.std(X, dim=0)\n",
    "# X_standardized = (X - X_mean) / X_std\n",
    "\n",
    "\n",
    "# X.size(), y.size()"
   ]
  },
  {
   "cell_type": "code",
   "execution_count": 8,
   "metadata": {},
   "outputs": [],
   "source": [
    "# Define the linear regression model\n",
    "class LinearRegression(nn.Module):\n",
    "    def __init__(self):\n",
    "        super(LinearRegression, self).__init__()\n",
    "        self.linear = nn.Linear(X_standardized.shape[1], 1)  # Number of input features and 1 output\n",
    "\n",
    "    def forward(self, x):\n",
    "        return self.linear(x)"
   ]
  },
  {
   "cell_type": "code",
   "execution_count": 10,
   "metadata": {},
   "outputs": [],
   "source": [
    "from sklearn.linear_model import LinearRegression\n",
    "from sklearn.ensemble import RandomForestRegressor\n",
    "import numpy as np\n",
    "\n",
    "lr = LinearRegression()\n",
    "lr.fit(X_train, np.log(y_train + 1e-5))\n",
    "\n",
    "rf = RandomForestRegressor()\n",
    "rf.fit(X_train, np.log(y_train + 1e-5))\n",
    "\n",
    "# save modle\n",
    "torch.save(rf, \"usa-model.pt\")\n"
   ]
  },
  {
   "cell_type": "code",
   "execution_count": null,
   "metadata": {},
   "outputs": [
    {
     "data": {
      "text/plain": [
       "(0.45312342691723884, 0.9372714312721295)"
      ]
     },
     "execution_count": 102,
     "metadata": {},
     "output_type": "execute_result"
    }
   ],
   "source": [
    "lr.score(x_val, np.log(y_val + 1e-5)),rf.score(x_val, np.log(y_val + 1e-5))"
   ]
  },
  {
   "cell_type": "code",
   "execution_count": null,
   "metadata": {},
   "outputs": [
    {
     "name": "stdout",
     "output_type": "stream",
     "text": [
      "Predicted amount of accidents: 20240.31\n",
      "percent deviation from average accidents per month:  -0.0%\n"
     ]
    }
   ],
   "source": [
    "# Define the bins for temperature and wind speed\n",
    "temperature_bins = [-float(\"inf\"), -5, 0, 5, 10, 15, 20, 25, 30, 35, float(\"inf\")]\n",
    "wind_speed_bins = [0, 2, 4, 6, 8, 10, 12, 14, 16, 18, float(\"inf\")]\n",
    "\n",
    "# Assign labels to each bin\n",
    "temperature_labels = [\n",
    "    \"Extremely Cold\",\n",
    "    \"Very Cold\",\n",
    "    \"Cold\",\n",
    "    \"Slightly Cold\",\n",
    "    \"Moderate Cold\",\n",
    "    \"Moderate Hot\",\n",
    "    \"Slightly Hot\",\n",
    "    \"Hot\",\n",
    "    \"Very Hot\",\n",
    "    \"Extremely Hot\",\n",
    "]\n",
    "wind_speed_labels = [\n",
    "    \"No Wind\",\n",
    "    \"Very Low\",\n",
    "    \"Low\",\n",
    "    \"Slightly Low\",\n",
    "    \"Moderate Low\",\n",
    "    \"Moderate High\",\n",
    "    \"Slightly High\",\n",
    "    \"High\",\n",
    "    \"Very High\",\n",
    "    \"Extremely High\",\n",
    "]\n",
    "\n",
    "current_temperature = 10\n",
    "current_wind_speed = 10\n",
    "\n",
    "# Encode the current temperature and wind speed values into one-hot encoding\n",
    "temperature_index = next(i for i, bin in enumerate(temperature_bins) if current_temperature <= bin)\n",
    "wind_speed_index = next(i for i, bin in enumerate(wind_speed_bins) if current_wind_speed <= bin)\n",
    "\n",
    "encoded_temperature = [0] * len(temperature_labels)\n",
    "encoded_temperature[temperature_index] = 1\n",
    "\n",
    "encoded_wind_speed = [0] * len(wind_speed_labels)\n",
    "encoded_wind_speed[wind_speed_index] = 1\n",
    "\n",
    "# Combine the encoded values into a single input tensor\n",
    "input_tensor = torch.tensor([encoded_temperature + encoded_wind_speed], dtype=torch.float32)\n",
    "\n",
    "# Make the prediction using the trained model\n",
    "predicted = model(input_tensor)\n",
    "\n",
    "# Print the predicted amount of accidents\n",
    "print(f\"Predicted amount of accidents: {predicted.item():.2f}\")\n",
    "deviation = (predicted.item() - 20240.4) / 20240.4 * 100\n",
    "print(\"percent deviation from average accidents per month: \", str(round(deviation, 3)) + \"%\")\n"
   ]
  }
 ],
 "metadata": {
  "kernelspec": {
   "display_name": "Python 3",
   "language": "python",
   "name": "python3"
  },
  "language_info": {
   "codemirror_mode": {
    "name": "ipython",
    "version": 3
   },
   "file_extension": ".py",
   "mimetype": "text/x-python",
   "name": "python",
   "nbconvert_exporter": "python",
   "pygments_lexer": "ipython3",
   "version": "3.9.1"
  },
  "orig_nbformat": 4
 },
 "nbformat": 4,
 "nbformat_minor": 2
}
