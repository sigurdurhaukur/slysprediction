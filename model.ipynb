{
 "cells": [
  {
   "cell_type": "code",
   "execution_count": null,
   "metadata": {},
   "outputs": [],
   "source": [
    "# ! pip3 install torch"
   ]
  },
  {
   "cell_type": "code",
   "execution_count": null,
   "metadata": {},
   "outputs": [],
   "source": [
    "import torch\n",
    "import torch.nn as nn\n",
    "import torch.optim as optim\n"
   ]
  },
  {
   "cell_type": "code",
   "execution_count": null,
   "metadata": {},
   "outputs": [],
   "source": [
    "# Pseudo data\n",
    "years = [2018, 2018, 2019, 2019, 2020, 2020]\n",
    "months = [1, 2, 3, 4, 5, 6]\n",
    "temperatures = [23.5, 24.7, 18.2, 20.5, 22.1, 25.0]\n",
    "accidents = [10, 15, 8, 12, 11, 13]\n",
    "\n",
    "# Convert the lists to PyTorch tensors\n",
    "X = torch.tensor(list(zip(years, months, temperatures)), dtype=torch.float32)\n",
    "y = torch.tensor(accidents, dtype=torch.float32)\n",
    "\n",
    "# Standardized the input features\n",
    "X_mean = torch.mean(X, dim=0)\n",
    "X_std = torch.std(X, dim=0)\n",
    "X_standardized = (X - X_mean) / X_std\n",
    "\n"
   ]
  },
  {
   "cell_type": "code",
   "execution_count": null,
   "metadata": {},
   "outputs": [],
   "source": [
    "# Define the model\n",
    "class LinearRegression(nn.Module):\n",
    "    def __init__(self):\n",
    "        super(LinearRegression, self).__init__()\n",
    "        self.linear = nn.Linear(3, 1)  # 3 input features and 1 output\n",
    "\n",
    "    def forward(self, x):\n",
    "        return self.linear(x)"
   ]
  },
  {
   "cell_type": "code",
   "execution_count": null,
   "metadata": {},
   "outputs": [],
   "source": [
    "# Initialize the model\n",
    "model = LinearRegression()\n",
    "criterion = nn.MSELoss()\n",
    "optimizer = optim.SGD(model.parameters(), lr=0.01)\n",
    "\n"
   ]
  },
  {
   "cell_type": "code",
   "execution_count": null,
   "metadata": {},
   "outputs": [],
   "source": [
    "# Train the model\n",
    "num_epochs = 1000\n",
    "\n",
    "for epoch in range(num_epochs):\n",
    "    # Forward pass\n",
    "    outputs = model(X_standardized)\n",
    "    loss = criterion(outputs, y)\n",
    "\n",
    "    # Backward and optimize\n",
    "    optimizer.zero_grad()\n",
    "    loss.backward()\n",
    "    optimizer.step()\n",
    "\n",
    "    if (epoch + 1) % 100 == 0:\n",
    "        print(f'Epoch {epoch+1}/{num_epochs}, Loss: {loss.item():.4f}')\n",
    "        \n"
   ]
  },
  {
   "cell_type": "code",
   "execution_count": null,
   "metadata": {},
   "outputs": [],
   "source": [
    "# inference\n",
    "new_data = torch.tensor([[2021, 7, 27.3]], dtype=torch.float32) # 27.3 degrees on July 2021\n",
    "standardized_new_data = (new_data - X_mean) / X_std\n",
    "predicted = model(standardized_new_data)\n",
    "\n",
    "# Print the predicted amount of accidents\n",
    "print(f'Predicted amount of accidents: {predicted.item():.2f}')\n"
   ]
  }
 ],
 "metadata": {
  "kernelspec": {
   "display_name": "Python 3",
   "language": "python",
   "name": "python3"
  },
  "language_info": {
   "name": "python",
   "version": "3.11.1"
  },
  "orig_nbformat": 4
 },
 "nbformat": 4,
 "nbformat_minor": 2
}
